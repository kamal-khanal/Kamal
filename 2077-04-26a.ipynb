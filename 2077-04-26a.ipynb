{
 "cells": [
  {
   "cell_type": "markdown",
   "metadata": {},
   "source": [
    "# Power variation: Maximum power\n",
    "- variation of output power with load resistance"
   ]
  },
  {
   "cell_type": "markdown",
   "metadata": {},
   "source": [
    "$$P_{out}=I^2R$$\n",
    "$$I=\\dfrac{E}{R+r}$$\n",
    "$$P_{out}=\\dfrac{E^2R}{(R+r)^2}$$\n",
    "$$Efficiency$$\n",
    "$$\\eta=\\dfrac{R}{R+r}$$\n",
    "$$Where E=Emf of Cell$$\n",
    "$$R=External(load) Resistance$$\n",
    "$$r=Internal resistance of cell$$"
   ]
  },
  {
   "cell_type": "code",
   "execution_count": 1,
   "metadata": {},
   "outputs": [
    {
     "name": "stderr",
     "output_type": "stream",
     "text": [
      "'[img]' is not recognized as an internal or external command,\n",
      "operable program or batch file.\n"
     ]
    }
   ],
   "source": [
    "![img](circuit.jpg)"
   ]
  },
  {
   "cell_type": "code",
   "execution_count": 2,
   "metadata": {},
   "outputs": [],
   "source": [
    "import pandas as pd\n",
    "import numpy as np\n",
    "import matplotlib.pyplot as plt\n",
    "import random as random\n",
    "%matplotlib inline"
   ]
  },
  {
   "cell_type": "code",
   "execution_count": 3,
   "metadata": {},
   "outputs": [
    {
     "data": {
      "text/plain": [
       "10.0"
      ]
     },
     "execution_count": 3,
     "metadata": {},
     "output_type": "execute_result"
    }
   ],
   "source": [
    "def Power(E,R,r):\n",
    "    Pout=E**2*R/(R+r)**2\n",
    "    return Pout\n",
    "Power(12,10,2)"
   ]
  },
  {
   "cell_type": "code",
   "execution_count": 4,
   "metadata": {},
   "outputs": [
    {
     "data": {
      "text/plain": [
       "0.8333333333333334"
      ]
     },
     "execution_count": 4,
     "metadata": {},
     "output_type": "execute_result"
    }
   ],
   "source": [
    "def efficiency(R,r):\n",
    "    e=R/(R+r)\n",
    "    return e\n",
    "efficiency (10,2)"
   ]
  },
  {
   "cell_type": "code",
   "execution_count": 5,
   "metadata": {},
   "outputs": [],
   "source": [
    "class Power():\n",
    "    def __init__(self,E,R,r):\n",
    "        self.E=E\n",
    "        self.r=r\n",
    "    def Pout(self,R):\n",
    "        P=self.E**2*R/(R+self.r)**2\n",
    "        return P\n",
    "    def efficiency(self,R):\n",
    "        e=R/(R+self.r)\n",
    "        return e"
   ]
  },
  {
   "cell_type": "code",
   "execution_count": 6,
   "metadata": {},
   "outputs": [
    {
     "name": "stdout",
     "output_type": "stream",
     "text": [
      "3.6\n",
      "0.6666666666666666\n"
     ]
    }
   ],
   "source": [
    "P1=Power(E=9,r=5,R=10)\n",
    "print(P1.Pout(10))\n",
    "print(P1.efficiency(10))"
   ]
  },
  {
   "cell_type": "code",
   "execution_count": 7,
   "metadata": {},
   "outputs": [],
   "source": [
    "E=12 # Emf of cell\n",
    "X=[]# Empty list for External resistance\n",
    "r=2 #internal Resistance of a cell\n",
    "Pout=[]# Empty list for power output\n",
    "N=[] # Empty list for efficiency\n",
    "for R in range (50): # variation of external resistance\n",
    "    pp=P1.Pout(R) # power output\n",
    "    ee=P1.efficiency(R) # efficiency\n",
    "    X.append(R)\n",
    "    Pout.append(pp)\n",
    "    N.append(ee)\n",
    "    #print(X)\n",
    "    #print(Pout)\n",
    "    #print(N)"
   ]
  },
  {
   "cell_type": "code",
   "execution_count": 8,
   "metadata": {},
   "outputs": [],
   "source": [
    "data={} #create an empty list\n",
    "data.update({\"Resistance\":X, \"Power\":Pout, \"Efficiency\": N}) #update above information with Rename\n",
    "#print(data)"
   ]
  },
  {
   "cell_type": "code",
   "execution_count": 9,
   "metadata": {},
   "outputs": [],
   "source": [
    "import pandas as pd\n",
    "DF=pd.DataFrame(data)  \n",
    "#print(DF)"
   ]
  },
  {
   "cell_type": "code",
   "execution_count": 10,
   "metadata": {},
   "outputs": [],
   "source": [
    "DF.to_csv('Power_variable.csv')"
   ]
  },
  {
   "cell_type": "code",
   "execution_count": 11,
   "metadata": {},
   "outputs": [
    {
     "data": {
      "text/html": [
       "<div>\n",
       "<style scoped>\n",
       "    .dataframe tbody tr th:only-of-type {\n",
       "        vertical-align: middle;\n",
       "    }\n",
       "\n",
       "    .dataframe tbody tr th {\n",
       "        vertical-align: top;\n",
       "    }\n",
       "\n",
       "    .dataframe thead th {\n",
       "        text-align: right;\n",
       "    }\n",
       "</style>\n",
       "<table border=\"1\" class=\"dataframe\">\n",
       "  <thead>\n",
       "    <tr style=\"text-align: right;\">\n",
       "      <th></th>\n",
       "      <th>Unnamed: 0</th>\n",
       "      <th>Resistance</th>\n",
       "      <th>Power</th>\n",
       "      <th>Efficiency</th>\n",
       "    </tr>\n",
       "  </thead>\n",
       "  <tbody>\n",
       "    <tr>\n",
       "      <th>0</th>\n",
       "      <td>0</td>\n",
       "      <td>0</td>\n",
       "      <td>0.000000</td>\n",
       "      <td>0.000000</td>\n",
       "    </tr>\n",
       "    <tr>\n",
       "      <th>1</th>\n",
       "      <td>1</td>\n",
       "      <td>1</td>\n",
       "      <td>2.250000</td>\n",
       "      <td>0.166667</td>\n",
       "    </tr>\n",
       "    <tr>\n",
       "      <th>2</th>\n",
       "      <td>2</td>\n",
       "      <td>2</td>\n",
       "      <td>3.306122</td>\n",
       "      <td>0.285714</td>\n",
       "    </tr>\n",
       "    <tr>\n",
       "      <th>3</th>\n",
       "      <td>3</td>\n",
       "      <td>3</td>\n",
       "      <td>3.796875</td>\n",
       "      <td>0.375000</td>\n",
       "    </tr>\n",
       "    <tr>\n",
       "      <th>4</th>\n",
       "      <td>4</td>\n",
       "      <td>4</td>\n",
       "      <td>4.000000</td>\n",
       "      <td>0.444444</td>\n",
       "    </tr>\n",
       "  </tbody>\n",
       "</table>\n",
       "</div>"
      ],
      "text/plain": [
       "   Unnamed: 0  Resistance     Power  Efficiency\n",
       "0           0           0  0.000000    0.000000\n",
       "1           1           1  2.250000    0.166667\n",
       "2           2           2  3.306122    0.285714\n",
       "3           3           3  3.796875    0.375000\n",
       "4           4           4  4.000000    0.444444"
      ]
     },
     "execution_count": 11,
     "metadata": {},
     "output_type": "execute_result"
    }
   ],
   "source": [
    "df=pd.read_csv('Power_variable.csv')\n",
    "df.head() #head mean title eg; Resistance, Power."
   ]
  },
  {
   "cell_type": "code",
   "execution_count": 12,
   "metadata": {},
   "outputs": [],
   "source": [
    "import matplotlib.pyplot as plt\n",
    "%matplotlib inline"
   ]
  },
  {
   "cell_type": "code",
   "execution_count": 13,
   "metadata": {},
   "outputs": [
    {
     "data": {
      "image/png": "[encoded data removed]",
      "text/plain": [
       "<Figure size 432x288 with 1 Axes>"
      ]
     },
     "metadata": {
      "needs_background": "light"
     },
     "output_type": "display_data"
    }
   ],
   "source": [
    "plt.plot(df.Resistance, df.Power,'-',color='r',label='Output power',lw=1) #lw= line width\n",
    "plt.plot(df.Resistance, df.Efficiency,'-',color='b',label='Efficiency',lw=1)\n",
    "plt.xlabel(\"Load Resistance(Ohm)\")\n",
    "plt.ylabel(\"Output Power(W),Efficiency\")\n",
    "plt.legend()\n",
    "plt.title(\"Power Variation and Efficiency\")\n",
    "plt.grid(True)"
   ]
  },
  {
   "cell_type": "code",
   "execution_count": null,
   "metadata": {},
   "outputs": [],
   "source": []
  }
 ],
 "metadata": {
  "kernelspec": {
   "display_name": "Python 3",
   "language": "python",
   "name": "python3"
  },
  "language_info": {
   "codemirror_mode": {
    "name": "ipython",
    "version": 3
   },
   "file_extension": ".py",
   "mimetype": "text/x-python",
   "name": "python",
   "nbconvert_exporter": "python",
   "pygments_lexer": "ipython3",
   "version": "3.7.6"
  }
 },
 "nbformat": 4,
 "nbformat_minor": 4
}
